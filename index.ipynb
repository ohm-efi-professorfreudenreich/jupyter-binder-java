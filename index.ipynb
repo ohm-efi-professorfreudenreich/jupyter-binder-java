{
 "cells": [
  {
   "cell_type": "markdown",
   "metadata": {},
   "source": [
    "## Introduction to Streams in Java\n",
    "\n",
    "In Java, streams are used to perform input and output (I/O) operations. Streams represent a sequence of data bytes or characters flowing between a source and a destination.\n",
    "\n",
    "### Byte Streams\n",
    "\n",
    "Byte streams are used to read and write raw binary data. They are typically used for handling binary files or low-level data.\n",
    "\n",
    "### Character Streams\n",
    "\n",
    "Character streams are used to read and write text data as a stream of characters. They handle character encoding automatically and are suitable for reading and writing text files.\n",
    "\n",
    "Let's demonstrate how to read text from a file using byte streams and character streams in Java."
   ]
  },
  {
   "cell_type": "code",
   "execution_count": null,
   "metadata": {},
   "outputs": [],
   "source": [
    "try {\n",
    "    // Read text from a file using byte stream (FileInputStream)\n",
    "    FileInputStream byteStream = new FileInputStream(\"example.txt\");\n",
    "    int data;\n",
    "    while ((data = byteStream.read()) != -1) {\n",
    "        System.out.print((char) data);\n",
    "    }\n",
    "    byteStream.close();\n",
    "    \n",
    "    System.out.println(\"\\n\\n---\\n\");\n",
    "    \n",
    "    // Read text from a file using character stream (FileReader)\n",
    "    FileInputStream charStream = new FileInputStream(\"example.txt\");\n",
    "    while ((data = charStream.read()) != -1) {\n",
    "        System.out.print((char) data);\n",
    "    }\n",
    "    charStream.close();\n",
    "} catch (IOException e) {\n",
    "    e.printStackTrace();\n",
    "}\n"
   ]
  },
  {
   "cell_type": "code",
   "execution_count": null,
   "metadata": {},
   "outputs": [],
   "source": []
  }
 ],
 "metadata": {
  "kernelspec": {
   "display_name": "Java",
   "language": "java",
   "name": "java"
  },
  "language_info": {
   "codemirror_mode": "java",
   "file_extension": ".jshell",
   "mimetype": "text/x-java-source",
   "name": "Java",
   "pygments_lexer": "java",
   "version": "21.0.3+9-LTS"
  }
 },
 "nbformat": 4,
 "nbformat_minor": 4
}
