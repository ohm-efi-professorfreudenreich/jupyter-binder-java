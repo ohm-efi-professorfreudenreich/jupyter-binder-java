{
 "cells": [
  {
   "cell_type": "code",
   "execution_count": 3,
   "metadata": {},
   "outputs": [],
   "source": [
    "%classpath add jar \"/home/myuser/graph.jar\""
   ]
  },
  {
   "cell_type": "markdown",
   "metadata": {},
   "source": [
    "## Rezeptempfehlungen\n",
    "Stellen Sie sich vor, Sie wollen für sich zu Hause etwas ähnliches aufbauen, wie die vielen Rezeptwebsites und Apps, die es bereits gibt. Der Unterschied ist jedoch, dass Sie dafür ausschließlich Rezepte nutzen wollen, die Sie bei sich zu Hause haben und kennen. Ihre Zielvorstellung ist, ein paar (vorhandene) Lebensmittel einzutippen und Vorschläge für Rezepte zu bekommen, die diese als Zutaten benötigen.\n",
    "\n",
    "### 1. Schritt\n",
    "Ihnen ist klar, dass ein Graph die ideale Datenstruktur dafür darstellt. Zuerst überlegen Sie sich also, was sich am besten für die Knoten und Kanten eignet und erstellen eine \"Dummy-Datenstruktur\". Dafür nutzen Sie die aus den Übungen bekannte Graphen Library."
   ]
  },
  {
   "cell_type": "code",
   "execution_count": 4,
   "metadata": {},
   "outputs": [],
   "source": [
    "import graph.AbstractEdge;\n",
    "import graph.GraphEdgeList;\n",
    "import graph.Vertex;"
   ]
  },
  {
   "cell_type": "code",
   "execution_count": 5,
   "metadata": {},
   "outputs": [],
   "source": [
    "private static GraphEdgeList<Integer, String> createGraph() {\n",
    "    GraphEdgeList<Integer, String> graph = new GraphEdgeList<>();\n",
    "\n",
    "    Vertex<String> recipe1 = graph.insertVertex(new Vertex<>(\"Greek Salad\"));\n",
    "    Vertex<String> recipe2 = graph.insertVertex(new Vertex<>(\"Spaghetti Carbonara\"));\n",
    "\n",
    "    Vertex<String> ingredient1 = graph.insertVertex(new Vertex<>(\"Tomato\"));\n",
    "    Vertex<String> ingredient2 = graph.insertVertex(new Vertex<>(\"Feta\"));\n",
    "    Vertex<String> ingredient3 = graph.insertVertex(new Vertex<>(\"Cucumber\"));\n",
    "    Vertex<String> ingredient4 = graph.insertVertex(new Vertex<>(\"Spaghetti\"));\n",
    "    Vertex<String> ingredient5 = graph.insertVertex(new Vertex<>(\"Egg\"));\n",
    "    Vertex<String> ingredient6 = graph.insertVertex(new Vertex<>(\"Pancetta\"));\n",
    "    Vertex<String> ingredient7 = graph.insertVertex(new Vertex<>(\"Parmesan\"));\n",
    "\n",
    "    graph.insertEdge(ingredient1, recipe1, 0);\n",
    "    graph.insertEdge(ingredient2, recipe1, 0);\n",
    "    graph.insertEdge(ingredient3, recipe1, 0);\n",
    "    graph.insertEdge(ingredient4, recipe2, 0);\n",
    "    graph.insertEdge(ingredient5, recipe2, 0);\n",
    "    graph.insertEdge(ingredient6, recipe2, 0);\n",
    "    graph.insertEdge(ingredient7, recipe2, 0);\n",
    "\n",
    "    return graph;\n",
    "}"
   ]
  },
  {
   "cell_type": "code",
   "execution_count": 6,
   "metadata": {},
   "outputs": [],
   "source": [
    "GraphEdgeList<Integer, String> graph = createGraph();"
   ]
  },
  {
   "cell_type": "markdown",
   "metadata": {},
   "source": [
    "Mit diesem Grundgerüst an Graph, implementieren Sie den nächsten Schritt: die eigentliche Empfehlung.\n",
    "Aus Graphentheoretischer Sicht ist das nichts anderes, als zwei Knoten im Graphen suchen und ihre nächsten Nachbarn aufzulisten"
   ]
  },
  {
   "cell_type": "code",
   "execution_count": 7,
   "metadata": {},
   "outputs": [],
   "source": [
    "private static void findRecipes(GraphEdgeList<Integer, String> graph, String ingredient1, String ingredient2) {\n",
    "    System.out.println(\"Recipes for ingredients: \" + ingredient1 + \", \" + ingredient2);\n",
    "    Vertex<String> v1 = graph.findVertex(ingredient1);\n",
    "    Vertex<String> v2 = graph.findVertex(ingredient2);\n",
    "    Collection<AbstractEdge<Integer>> connections = graph.incidentEdges(v1);\n",
    "    \n",
    "    for (AbstractEdge<Integer> edge : connections) {\n",
    "        Vertex<String> v3 = graph.opposite(v1, edge);\n",
    "        if (v2 == v3)\n",
    "            System.out.println(edge.getElement());\n",
    "        \n",
    "    }\n",
    "}"
   ]
  },
  {
   "cell_type": "code",
   "execution_count": 8,
   "metadata": {},
   "outputs": [
    {
     "name": "stdout",
     "output_type": "stream",
     "text": [
      "Recipes for ingredients: Tomato, Feta\n"
     ]
    }
   ],
   "source": [
    "// Example: Find recipes with given ingredients\n",
    "findRecipes(graph, \"Tomato\", \"Feta\");"
   ]
  },
  {
   "cell_type": "markdown",
   "metadata": {},
   "source": [
    "Nun ist aber noch nicht sichergestellt, dass wir auch wirklich Rezepte vorgeschlagen bekommen und nicht einfach nur weitere Zutaten."
   ]
  },
  {
   "cell_type": "code",
   "execution_count": 16,
   "metadata": {},
   "outputs": [],
   "source": [
    "private static void findRecipes2(GraphEdgeList<Integer, String> graph, String... ingredients) {\n",
    "    System.out.println(\"Recipes for ingredients: \" + String.join(\", \", ingredients));\n",
    "\n",
    "    // Find all vertices for the given ingredients\n",
    "    Set<Vertex<String>> ingredientVertices = new HashSet<>();\n",
    "    for (String ingredient : ingredients) {\n",
    "        Vertex<String> vertex = graph.findVertex(ingredient);\n",
    "        if (vertex != null) {\n",
    "            ingredientVertices.add(vertex);\n",
    "        }\n",
    "    }\n",
    "\n",
    "    // Collect recipes connected to the first ingredient\n",
    "    if (ingredientVertices.isEmpty()) {\n",
    "        System.out.println(\"No matching ingredients found in the graph.\");\n",
    "        return;\n",
    "    }\n",
    "    Vertex<String> firstIngredient = ingredientVertices.iterator().next();\n",
    "    Set<Vertex<String>> candidateRecipes = new HashSet<>();\n",
    "    for (AbstractEdge<Integer> edge : graph.incidentEdges(firstIngredient)) {\n",
    "        candidateRecipes.add(graph.opposite(firstIngredient, edge));\n",
    "    }\n",
    "\n",
    "    // Filter recipes that are connected to all other ingredients\n",
    "    for (Vertex<String> ingredientVertex : ingredientVertices) {\n",
    "        candidateRecipes.removeIf(recipe -> !isRecipeConnectedToIngredient(graph, recipe, ingredientVertex));\n",
    "    }\n",
    "\n",
    "    // Print the found recipes\n",
    "    if (candidateRecipes.isEmpty()) {\n",
    "        System.out.println(\"No recipes found for the given ingredients.\");\n",
    "    } else {\n",
    "        for (Vertex<String> recipe : candidateRecipes) {\n",
    "            System.out.println(\"Recipe: \" + recipe.getElement());\n",
    "        }\n",
    "    }\n",
    "}"
   ]
  },
  {
   "cell_type": "code",
   "execution_count": 13,
   "metadata": {},
   "outputs": [],
   "source": [
    "private static boolean isRecipeConnectedToIngredient(GraphEdgeList<Integer, String> graph, Vertex<String> recipe, Vertex<String> ingredient) {\n",
    "    for (AbstractEdge<Integer> edge : graph.incidentEdges(recipe)) {\n",
    "        if (graph.opposite(recipe, edge).equals(ingredient)) {\n",
    "            return true;\n",
    "        }\n",
    "    }\n",
    "    return false;\n",
    "}"
   ]
  },
  {
   "cell_type": "code",
   "execution_count": 17,
   "metadata": {},
   "outputs": [
    {
     "name": "stdout",
     "output_type": "stream",
     "text": [
      "Recipes for ingredients: Tomato, Feta\n",
      "Recipe: Greek Salad\n"
     ]
    }
   ],
   "source": [
    "// Example: Find recipes with given ingredients\n",
    "findRecipes2(graph, \"Tomato\", \"Feta\");"
   ]
  },
  {
   "cell_type": "markdown",
   "metadata": {},
   "source": [
    "Das klappt schon ganz gut. Als nächstes möchten wir die Möglichkeit haben, Rezepte auch dynamisch hinzufügen zu können, d.h. über eine Textdatei oder vielleicht sogar indem wir sie von einem Link auslesen."
   ]
  },
  {
   "attachments": {},
   "cell_type": "markdown",
   "metadata": {},
   "source": [
    "## Introduction to Streams in Java\n",
    "\n",
    "In Java, streams are used to perform input and output (I/O) operations. Streams represent a sequence of data bytes or characters flowing between a source and a destination.\n",
    "\n",
    "### Byte Streams\n",
    "\n",
    "Byte streams are used to read and write raw binary data. They are typically used for handling binary files or low-level data.\n",
    "\n",
    "### Character Streams\n",
    "\n",
    "Character streams are used to read and write text data as a stream of characters. They handle character encoding automatically and are suitable for reading and writing text files.\n",
    "\n",
    "Let's demonstrate how to read text from a file using byte streams and character streams in Java."
   ]
  },
  {
   "cell_type": "code",
   "execution_count": null,
   "metadata": {},
   "outputs": [],
   "source": []
  },
  {
   "cell_type": "code",
   "execution_count": null,
   "metadata": {},
   "outputs": [],
   "source": [
    "try {\n",
    "    // Read text from a file using byte stream (FileInputStream)\n",
    "    FileInputStream byteStream = new FileInputStream(\"example.txt\");\n",
    "    int data;\n",
    "    while ((data = byteStream.read()) != -1) {\n",
    "        System.out.print((char) data);\n",
    "    }\n",
    "    byteStream.close();\n",
    "    \n",
    "    System.out.println(\"\\n\\n---\\n\");\n",
    "    \n",
    "    // Read text from a file using character stream (FileReader)\n",
    "    FileInputStream charStream = new FileInputStream(\"example.txt\");\n",
    "    while ((data = charStream.read()) != -1) {\n",
    "        System.out.print((char) data);\n",
    "    }\n",
    "    charStream.close();\n",
    "} catch (IOException e) {\n",
    "    e.printStackTrace();\n",
    "}\n"
   ]
  },
  {
   "cell_type": "code",
   "execution_count": null,
   "metadata": {},
   "outputs": [],
   "source": []
  }
 ],
 "metadata": {
  "kernelspec": {
   "display_name": "Java",
   "language": "java",
   "name": "java"
  },
  "language_info": {
   "codemirror_mode": "java",
   "file_extension": ".jshell",
   "mimetype": "text/x-java-source",
   "name": "Java",
   "pygments_lexer": "java",
   "version": "21.0.3+9-LTS"
  }
 },
 "nbformat": 4,
 "nbformat_minor": 4
}
