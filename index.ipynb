{
 "cells": [
  {
   "cell_type": "code",
   "execution_count": null,
   "metadata": {},
   "outputs": [],
   "source": [
    "public class HelloWorld {\n",
    "    public static void main(String[] args) {\n",
    "        System.out.println(\"Hello, World!\");\n",
    "    }\n",
    "}"
   ]
  }
 ],
 "metadata": {
  "kernelspec": {
   "display_name": "Java",
   "language": "Java",
   "name": "Java"
  },
  "language_info": {
   "file_extension": ".java",
   "mimetype": "text/x-java-source",
   "name": "Java",
   "version": "11"
  }
 },
 "nbformat": 4,
 "nbformat_minor": 2
}
