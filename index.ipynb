{
 "cells": [
  {
   "cell_type": "code",
   "execution_count": 2,
   "metadata": {},
   "outputs": [],
   "source": [
    "%classpath add jar \"/home/myuser/graph.jar\""
   ]
  },
  {
   "cell_type": "markdown",
   "metadata": {},
   "source": [
    "## Rezeptempfehlungen\n",
    "Stellen Sie sich vor, Sie wollen für sich zu Hause etwas ähnliches aufbauen, wie die vielen Rezeptwebsites und Apps, die es bereits gibt. Der Unterschied ist jedoch, dass Sie dafür ausschließlich Rezepte nutzen wollen, die Sie bei sich zu Hause haben und kennen. Ihre Zielvorstellung ist, ein paar (vorhandene) Lebensmittel einzutippen und Vorschläge für Rezepte zu bekommen, die diese als Zutaten benötigen.\n",
    "\n",
    "### 1. Schritt\n",
    "Ihnen ist klar, dass ein Graph die ideale Datenstruktur dafür darstellt. Zuerst überlegen Sie sich also, was sich am besten für die Knoten und Kanten eignet und erstellen eine \"Dummy-Datenstruktur\". Dafür nutzen Sie die aus den Übungen bekannte Graphen Library."
   ]
  },
  {
   "cell_type": "code",
   "execution_count": 3,
   "metadata": {},
   "outputs": [],
   "source": [
    "import graph.AbstractEdge;\n",
    "import graph.GraphEdgeList;\n",
    "import graph.Vertex;"
   ]
  },
  {
   "cell_type": "code",
   "execution_count": 13,
   "metadata": {},
   "outputs": [],
   "source": [
    "private static GraphEdgeList<Integer, String> createGraph() {\n",
    "    GraphEdgeList<Integer, String> graph = new GraphEdgeList<>();\n",
    "\n",
    "        // Rezepte\n",
    "        Vertex<String> rezept1 = graph.insertVertex(new Vertex<>(\"Rezept: Griechischer Salat\"));\n",
    "        Vertex<String> rezept2 = graph.insertVertex(new Vertex<>(\"Rezept: Spaghetti Carbonara\"));\n",
    "        Vertex<String> rezept3 = graph.insertVertex(new Vertex<>(\"Rezept: Caprese-Salat\"));\n",
    "        Vertex<String> rezept4 = graph.insertVertex(new Vertex<>(\"Rezept: Tomaten-Basilikum-Suppe\"));\n",
    "        \n",
    "        // Zutaten\n",
    "        Vertex<String> zutat1 = graph.insertVertex(new Vertex<>(\"Tomate\"));\n",
    "        Vertex<String> zutat2 = graph.insertVertex(new Vertex<>(\"Feta\"));\n",
    "        Vertex<String> zutat3 = graph.insertVertex(new Vertex<>(\"Gurke\"));\n",
    "        Vertex<String> zutat4 = graph.insertVertex(new Vertex<>(\"Spaghetti\"));\n",
    "        Vertex<String> zutat5 = graph.insertVertex(new Vertex<>(\"Ei\"));\n",
    "        Vertex<String> zutat6 = graph.insertVertex(new Vertex<>(\"Pancetta\"));\n",
    "        Vertex<String> zutat7 = graph.insertVertex(new Vertex<>(\"Parmesan\"));\n",
    "        Vertex<String> zutat8 = graph.insertVertex(new Vertex<>(\"Mozzarella\"));\n",
    "        Vertex<String> zutat9 = graph.insertVertex(new Vertex<>(\"Basilikum\"));\n",
    "        Vertex<String> zutat10 = graph.insertVertex(new Vertex<>(\"Olivenöl\"));\n",
    "\n",
    "        // Griechischer Salat\n",
    "        graph.insertEdge(zutat1, rezept1, 0); // Tomate\n",
    "        graph.insertEdge(zutat2, rezept1, 0); // Feta\n",
    "        graph.insertEdge(zutat3, rezept1, 0); // Gurke\n",
    "        \n",
    "        // Spaghetti Carbonara\n",
    "        graph.insertEdge(zutat4, rezept2, 0); // Spaghetti\n",
    "        graph.insertEdge(zutat5, rezept2, 0); // Ei\n",
    "        graph.insertEdge(zutat6, rezept2, 0); // Pancetta\n",
    "        graph.insertEdge(zutat7, rezept2, 0); // Parmesan\n",
    "        \n",
    "        // Caprese-Salat (ähnlich wie Griechischer Salat)\n",
    "        graph.insertEdge(zutat1, rezept3, 0); // Tomate\n",
    "        graph.insertEdge(zutat8, rezept3, 0); // Mozzarella\n",
    "        graph.insertEdge(zutat9, rezept3, 0); // Basilikum\n",
    "        graph.insertEdge(zutat10, rezept3, 0); // Olivenöl\n",
    "        \n",
    "        // Tomaten-Basilikum-Suppe\n",
    "        graph.insertEdge(zutat1, rezept4, 0); // Tomate\n",
    "        graph.insertEdge(zutat9, rezept4, 0); // Basilikum\n",
    "        graph.insertEdge(zutat10, rezept4, 0); // Olivenöl\n",
    "\n",
    "    return graph;\n",
    "}"
   ]
  },
  {
   "cell_type": "code",
   "execution_count": 14,
   "metadata": {},
   "outputs": [],
   "source": [
    "GraphEdgeList<Integer, String> graph = createGraph();"
   ]
  },
  {
   "cell_type": "markdown",
   "metadata": {},
   "source": [
    "Dieses Grundgerüst an Rezepten wollen Sie sich nun erstmal anschauen (könnenn). Da Sie sich noch nicht auf ein finales System oder visuelle Darstellung festgelegt haben, lassen Sie sich von ChatGPT eine Methode schreiben, die den Graph als sogenanntes dot-file speichert (dot ist ein Dateiformat, das von <u>[Graphviz](https://graphviz.org/)</u> verwendet wird, einem hilfreichen kleinen Tool, um Graphen schnell und schön zu zeichnen)."
   ]
  },
  {
   "cell_type": "code",
   "execution_count": 1,
   "metadata": {},
   "outputs": [
    {
     "ename": "CompilationException",
     "evalue": "",
     "output_type": "error",
     "traceback": [
      "\u001b[1m\u001b[30m|   \u001b[1m\u001b[30mprivate static void saveGraphAsDot(GraphEdgeList<Integer, String> graph, String filename) {\u001b[0m",
      "\u001b[1m\u001b[30m|   \u001b[1m\u001b[30m    try (FileWriter writer = new FileWriter(filename)) {\u001b[0m",
      "\u001b[1m\u001b[30m|   \u001b[1m\u001b[30m        writer.write(\"digraph RecipeGraph {\\n\");\u001b[0m",
      "\u001b[1m\u001b[30m|   \u001b[1m\u001b[30m\u001b[0m",
      "\u001b[1m\u001b[30m|   \u001b[1m\u001b[30m        // Write vertices\u001b[0m",
      "\u001b[1m\u001b[30m|   \u001b[1m\u001b[30m        for (Vertex<String> vertex : graph.vertices()) {\u001b[0m",
      "\u001b[1m\u001b[30m|   \u001b[1m\u001b[30m            writer.write(\"  \\\"\" + vertex.getElement() + \"\\\";\\n\");\u001b[0m",
      "\u001b[1m\u001b[30m|   \u001b[1m\u001b[30m        }\u001b[0m",
      "\u001b[1m\u001b[30m|   \u001b[1m\u001b[30m\u001b[0m",
      "\u001b[1m\u001b[30m|   \u001b[1m\u001b[30m        // Write edges\u001b[0m",
      "\u001b[1m\u001b[30m|   \u001b[1m\u001b[30m        for (AbstractEdge<Integer> edge : graph.edges()) {\u001b[0m",
      "\u001b[1m\u001b[30m|   \u001b[1m\u001b[30m            Vertex<String>[] incidentVertices = graph.endVertices(edge);\u001b[0m",
      "\u001b[1m\u001b[30m|   \u001b[1m\u001b[30m            Vertex<String> source = incidentVertices[0];\u001b[0m",
      "\u001b[1m\u001b[30m|   \u001b[1m\u001b[30m            Vertex<String> target = incidentVertices[1];\u001b[0m",
      "\u001b[1m\u001b[30m|   \u001b[1m\u001b[30m            writer.write(\"  \\\"\" + source.getElement() + \"\\\" -> \\\"\" + target.getElement() + \"\\\";\\n\");\u001b[0m",
      "\u001b[1m\u001b[30m|   \u001b[1m\u001b[30m        }\u001b[0m",
      "\u001b[1m\u001b[30m|   \u001b[1m\u001b[30m\u001b[0m",
      "\u001b[1m\u001b[30m|   \u001b[1m\u001b[30m        writer.write(\"}\");\u001b[0m",
      "\u001b[1m\u001b[30m|   \u001b[1m\u001b[30m    } catch (IOException e) {\u001b[0m",
      "\u001b[1m\u001b[30m|   \u001b[1m\u001b[30m        e.printStackTrace();\u001b[0m",
      "\u001b[1m\u001b[30m|   \u001b[1m\u001b[30m    }\u001b[0m",
      "\u001b[1m\u001b[30m|   \u001b[1m\u001b[30m}\u001b[0m",
      "\u001b[1m\u001b[31mUnresolved dependencies:\u001b[0m",
      "\u001b[1m\u001b[31m   - class GraphEdgeList\u001b[0m",
      "\u001b[1m\u001b[31m   - class Vertex\u001b[0m",
      "\u001b[1m\u001b[31m   - class AbstractEdge\u001b[0m"
     ]
    }
   ],
   "source": [
    "private static void saveGraphAsDot(GraphEdgeList<Integer, String> graph, String filename) {\n",
    "    try (FileWriter writer = new FileWriter(filename)) {\n",
    "        writer.write(\"digraph RecipeGraph {\\n\");\n",
    "\n",
    "        // Write vertices\n",
    "        for (Vertex<String> vertex : graph.vertices()) {\n",
    "            writer.write(\"  \\\"\" + vertex.getElement() + \"\\\";\\n\");\n",
    "        }\n",
    "\n",
    "        // Write edges\n",
    "        for (AbstractEdge<Integer> edge : graph.edges()) {\n",
    "            Vertex<String>[] incidentVertices = graph.endVertices(edge);\n",
    "            Vertex<String> source = incidentVertices[0];\n",
    "            Vertex<String> target = incidentVertices[1];\n",
    "            writer.write(\"  \\\"\" + source.getElement() + \"\\\" -> \\\"\" + target.getElement() + \"\\\";\\n\");\n",
    "        }\n",
    "\n",
    "        writer.write(\"}\");\n",
    "    } catch (IOException e) {\n",
    "        e.printStackTrace();\n",
    "    }\n",
    "}"
   ]
  },
  {
   "cell_type": "code",
   "execution_count": 16,
   "metadata": {},
   "outputs": [],
   "source": [
    "// Save the graph as a DOT file\n",
    "saveGraphAsDot(graph, \"recipe_graph.dot\");"
   ]
  },
  {
   "cell_type": "markdown",
   "metadata": {},
   "source": [
    "Die so erzeugte Datei sieht folgendermaßen aus und nun kann unter Windows mit dem Befehl: <Link-zu-Graphviz>\\dot.exe -Tpng -o recipe_graph.png recipe_graph.dot (den man auf der Konsole ausführt) der Graph gezeichnet werden:\n",
    " <br>  <br>\n",
    "digraph RecipeGraph { <br>\n",
    "  \"Recipe: Greek Salad\"; <br>\n",
    "  \"Recipe: Spaghetti Carbonara\"; <br>\n",
    "  \"Recipe: Caprese Salad\"; <br>\n",
    "  \"Recipe: Tomato Basil Soup\"; <br>\n",
    "  \"Tomato\"; <br>\n",
    "  \"Feta\"; <br>\n",
    "  \"Cucumber\"; <br>\n",
    "  \"Spaghetti\"; <br>\n",
    "  \"Egg\"; <br>\n",
    "  \"Pancetta\"; <br>\n",
    "  \"Parmesan\"; <br>\n",
    "  \"Mozzarella\"; <br>\n",
    "  \"Basil\"; <br>\n",
    "  \"Olive Oil\"; <br>\n",
    "  \"Tomato\" -> \"Recipe: Greek Salad\"; <br>\n",
    "  \"Feta\" -> \"Recipe: Greek Salad\"; <br>\n",
    "  \"Cucumber\" -> \"Recipe: Greek Salad\"; <br>\n",
    "  \"Spaghetti\" -> \"Recipe: Spaghetti Carbonara\"; <br>\n",
    "  \"Egg\" -> \"Recipe: Spaghetti Carbonara\"; <br>\n",
    "  \"Pancetta\" -> \"Recipe: Spaghetti Carbonara\"; <br>\n",
    "  \"Parmesan\" -> \"Recipe: Spaghetti Carbonara\"; <br>\n",
    "  \"Tomato\" -> \"Recipe: Caprese Salad\"; <br>\n",
    "  \"Mozzarella\" -> \"Recipe: Caprese Salad\"; <br>\n",
    "  \"Basil\" -> \"Recipe: Caprese Salad\"; <br>\n",
    "  \"Olive Oil\" -> \"Recipe: Caprese Salad\"; <br>\n",
    "  \"Tomato\" -> \"Recipe: Tomato Basil Soup\"; <br>\n",
    "  \"Basil\" -> \"Recipe: Tomato Basil Soup\"; <br>\n",
    "  \"Olive Oil\" -> \"Recipe: Tomato Basil Soup\"; <br>\n",
    "} <br>\n",
    "\n",
    "![Alt Text](\"/home/myuser/recipe_graph.png\")"
   ]
  },
  {
   "cell_type": "markdown",
   "metadata": {},
   "source": [
    "Mit diesem Grundgerüst an Graph, implementieren Sie den nächsten Schritt: die eigentliche Empfehlung. Aus Graphentheoretischer Sicht ist das nichts anderes, als zwei Knoten im Graphen suchen und ihre nächsten Nachbarn geschickt aufzulisten. Dementsprechend wird nun eine Methode erzeugt, die sowohl den Graph als auch die zu suchenden Zutaten übergeben bekommt. Im ersten Schritt sind nur zwei Zutaten zugelassen, um die Implementierung zu Beginn richtig aufzusetzen und später erweitern zu können."
   ]
  },
  {
   "cell_type": "code",
   "execution_count": 21,
   "metadata": {},
   "outputs": [],
   "source": [
    "private static void findRecipes(GraphEdgeList<Integer, String> graph, String ingredient1, String ingredient2) {\n",
    "    System.out.println(\"Rezepte zu folgenden Zutaten: \" + ingredient1 + \", \" + ingredient2);\n",
    "    boolean found = false;\n",
    "\n",
    "    for (Vertex<String> vertex : graph.vertices()) {\n",
    "        String recipe = vertex.getElement();\n",
    "\n",
    "        boolean hasIngredient1 = false;\n",
    "        boolean hasIngredient2 = false;\n",
    "\n",
    "        Collection<AbstractEdge<Integer>> connections = graph.incidentEdges(vertex);\n",
    "        for (AbstractEdge<Integer> edge : connections) {\n",
    "            Vertex<String> ingredientVertex = graph.opposite(vertex, edge);\n",
    "            String ingredient = ingredientVertex.getElement();\n",
    "            if (ingredient.equals(ingredient1)) {\n",
    "                hasIngredient1 = true;\n",
    "            } else if (ingredient.equals(ingredient2)) {\n",
    "                hasIngredient2 = true;\n",
    "            }\n",
    "        }\n",
    "\n",
    "        if (hasIngredient1 && hasIngredient2) {\n",
    "            System.out.println(recipe);\n",
    "            found = true;\n",
    "        }\n",
    "    }\n",
    "\n",
    "    if (!found) {\n",
    "        System.out.println(\"Keine passenden Rezepte gefunden.\");\n",
    "    }\n",
    "}"
   ]
  },
  {
   "cell_type": "code",
   "execution_count": 22,
   "metadata": {},
   "outputs": [
    {
     "name": "stdout",
     "output_type": "stream",
     "text": [
      "Recipes for ingredients: Tomato, Feta\n",
      "Recipe: Greek Salad\n"
     ]
    }
   ],
   "source": [
    "// Example: Find recipes with given ingredients\n",
    "findRecipes(graph, \"Tomate\", \"Feta\");"
   ]
  },
  {
   "cell_type": "markdown",
   "metadata": {},
   "source": [
    "Idealerweise wächst das Programm mit der Zeit und ist in der Lage aus vielen Rezepten zu lesen. Dabei gibt es verschiedene Fehlerquellen, die auftreten können. Um nun sicherzustellen, dass beim Rezepte auf Basis von Zutaten suchen, wirklich nur Rezepte ausgegeben werden, ergänzen Sie eine kleine Bedingung in der Methode. Sollten nun mal aus irgendeinem Grund mehrere Zutaten direkt miteinander verbunden sein und nicht nur indirekt über ein Rezept, ist sichergestellt, dass nur Rezepte ausgegeben werden."
   ]
  },
  {
   "cell_type": "code",
   "execution_count": 23,
   "metadata": {},
   "outputs": [],
   "source": [
    "private static void findRecipes(GraphEdgeList<Integer, String> graph, String ingredient1, String ingredient2) {\n",
    "    System.out.println(\"Rezepte zu folgenden Zutaten:\" + ingredient1 + \", \" + ingredient2);\n",
    "    boolean found = false;\n",
    "\n",
    "    for (Vertex<String> vertex : graph.vertices()) {\n",
    "        String recipe = vertex.getElement();\n",
    "        if (!recipe.startsWith(\"Rezept: \")) {\n",
    "            continue; // Skip ingredients\n",
    "        }\n",
    "\n",
    "        boolean hasIngredient1 = false;\n",
    "        boolean hasIngredient2 = false;\n",
    "\n",
    "        Collection<AbstractEdge<Integer>> connections = graph.incidentEdges(vertex);\n",
    "        for (AbstractEdge<Integer> edge : connections) {\n",
    "            Vertex<String> ingredientVertex = graph.opposite(vertex, edge);\n",
    "            String ingredient = ingredientVertex.getElement();\n",
    "            if (ingredient.equals(ingredient1)) {\n",
    "                hasIngredient1 = true;\n",
    "            } else if (ingredient.equals(ingredient2)) {\n",
    "                hasIngredient2 = true;\n",
    "            }\n",
    "        }\n",
    "\n",
    "        if (hasIngredient1 && hasIngredient2) {\n",
    "            System.out.println(recipe);\n",
    "            found = true;\n",
    "        }\n",
    "    }\n",
    "\n",
    "    if (!found) {\n",
    "        System.out.println(\"Keine passenden Rezepte gefunden.\");\n",
    "    }\n",
    "}\n"
   ]
  },
  {
   "cell_type": "code",
   "execution_count": 24,
   "metadata": {},
   "outputs": [
    {
     "name": "stdout",
     "output_type": "stream",
     "text": [
      "Recipes for ingredients: Tomato, Feta\n",
      "Recipe: Greek Salad\n",
      "Recipes for ingredients: Tomato, Olive Oil\n",
      "Recipe: Caprese Salad\n",
      "Recipe: Tomato Basil Soup\n",
      "Recipes for ingredients: Tomato, Basil\n",
      "Recipe: Caprese Salad\n",
      "Recipe: Tomato Basil Soup\n"
     ]
    }
   ],
   "source": [
    "findRecipes(graph, \"Tomate\", \"Feta\");\n",
    "findRecipes(graph, \"Tomate\", \"Olivenöl\");\n",
    "findRecipes(graph, \"Tomate\", \"Basilikum\");"
   ]
  },
  {
   "cell_type": "markdown",
   "metadata": {},
   "source": [
    "Das klappt schon ganz gut. Als nächstes möchten wir die Möglichkeit haben, Rezepte auch dynamisch hinzufügen zu können, d.h. über eine Textdatei oder vielleicht sogar indem wir sie von einem Link auslesen."
   ]
  },
  {
   "cell_type": "code",
   "execution_count": null,
   "metadata": {},
   "outputs": [],
   "source": [
    "try {\n",
    "    // Read text from a file using byte stream (FileInputStream)\n",
    "    FileInputStream byteStream = new FileInputStream(\"example.txt\");\n",
    "    int data;\n",
    "    while ((data = byteStream.read()) != -1) {\n",
    "        System.out.print((char) data);\n",
    "    }\n",
    "    byteStream.close();\n",
    "    \n",
    "    System.out.println(\"\\n\\n---\\n\");\n",
    "    \n",
    "    // Read text from a file using character stream (FileReader)\n",
    "    FileInputStream charStream = new FileInputStream(\"example.txt\");\n",
    "    while ((data = charStream.read()) != -1) {\n",
    "        System.out.print((char) data);\n",
    "    }\n",
    "    charStream.close();\n",
    "} catch (IOException e) {\n",
    "    e.printStackTrace();\n",
    "}\n"
   ]
  },
  {
   "cell_type": "markdown",
   "metadata": {},
   "source": [
    "Wir haben bereits absolute und relative Pfade genutzt, um Dateien vom Computer einzulesen, für unser neuestes Projekt stehen wir jedoch vor der Herausforderung, dass wir noch nicht entschieden haben, auf welchem System es am Ende laufen soll (Windows, Mac, Linux, ...). Es gibt im Endeffekt zwei Möglichkeiten, den Pfad der einzulesenden Datei so abzuspeichern, dass dieser auf jedem System gefunden werden kann:\r\n",
    "* mit aufwendigen switch/if-else Abfragen, um die Systempfade richtig zu setzen\r\n",
    "* Nutzen von bestehender Javafunktionalität\r\n",
    "\r\n",
    "Wir entscheiden uns für den zweiten Weg und schreiben nun eine Methode, um Dateien einzulesen. Diese Methode hat als Eingabeparameter den Graph sowie den absoluten Pfad zur Datei und wandelt diesen Pfad dann systemspezifisch um, liest die Datei ein und fügt die neuen Knoten und Kanten dem bestehenden Graph hinzu."
   ]
  },
  {
   "cell_type": "code",
   "execution_count": null,
   "metadata": {},
   "outputs": [],
   "source": [
    "private static void addRecipeFromFile(GraphEdgeList<Integer, String> graph, String filePath) {\n",
    "    // Convert the file path to system-specific format\n",
    "    String systemSpecificPath = Paths.get(filePath).toString();\n",
    "\n",
    "    try (BufferedReader reader = new BufferedReader(new FileReader(systemSpecificPath))) {\n",
    "        String nameLine = reader.readLine();\n",
    "        String ingredientsLine = reader.readLine();\n",
    "\n",
    "        if (nameLine != null && ingredientsLine != null) {\n",
    "            String recipeName = nameLine.split(\": \")[1];\n",
    "            String[] ingredients = ingredientsLine.split(\": \")[1].split(\", \");\n",
    "\n",
    "            // Insert the recipe vertex\n",
    "            Vertex<String> recipeVertex = graph.insertVertex(new Vertex<>(recipeName));\n",
    "\n",
    "            // Insert ingredient vertices and edges\n",
    "            Map<String, Vertex<String>> ingredientMap = new HashMap<>();\n",
    "            for (Vertex<String> vertex : graph.vertices()) {\n",
    "                ingredientMap.put(vertex.getElement(), vertex);\n",
    "            }\n",
    "\n",
    "            for (String ingredient : ingredients) {\n",
    "                Vertex<String> ingredientVertex = ingredientMap.get(ingredient);\n",
    "                if (ingredientVertex == null) {\n",
    "                    ingredientVertex = graph.insertVertex(new Vertex<>(ingredient));\n",
    "                    ingredientMap.put(ingredient, ingredientVertex);\n",
    "                }\n",
    "                graph.insertEdge(ingredientVertex, recipeVertex, 0);\n",
    "            }\n",
    "        }\n",
    "    } catch (IOException e) {\n",
    "        e.printStackTrace();\n",
    "    }\n",
    "}"
   ]
  },
  {
   "cell_type": "markdown",
   "metadata": {},
   "source": [
    "Eine weitere Herausforderung sind Sprachen. Auf einem englischsprachigen System sind keine deutschen Umlaute bekannt usw. "
   ]
  },
  {
   "cell_type": "markdown",
   "metadata": {},
   "source": [
    "Nun können wir erfolgreich mehrere Rezepte einlesen und kennen die Hürden von ASCII und Umlauten. Als nächstes nehmen wir uns das Suchen und Finden der Rezepte vor:\n",
    "In der ersten Implementierung oben haben wir es der Library überlassen, passende Knoten zu finden. Aber ist das die beste Möglichkeit? Kann die dort vorhandene Methode auch mit nicht perfekt passendem Text umgehen? Also zum Beispiel: wenn ich \"Tomate\" eingebe, statt \"Tomaten\" oder \"Tomte\" (=hier ist der Tippfehler gemeint, nicht die Band). Wir sollten uns also noch mit dem sog. String-Matching beschäftigen, bevor wir weitermachen können."
   ]
  },
  {
   "cell_type": "markdown",
   "metadata": {},
   "source": [
    "Was für uns Menschen trivial erscheinen mag, ist für den Computer ungleich viel schwerer: In einem (großen) Datensatz nach einem Textpattern suchen und dieses finden. Wir schauen uns folgenden drei Möglichkeiten genauer an:\r\n",
    "* naiver Ansatz\r\n",
    "* Boyer-Moore-Algorithm\n",
    "* Regular Expressionsns\r\n",
    "\r\n"
   ]
  },
  {
   "cell_type": "code",
   "execution_count": null,
   "metadata": {},
   "outputs": [],
   "source": [
    "private static boolean naiveStringSearch(String text, String pattern) {\n",
    "    int n = text.length();\n",
    "    int m = pattern.length();\n",
    "\n",
    "    for (int i = 0; i <= n - m; i++) {\n",
    "        int j;\n",
    "        for (j = 0; j < m; j++) {\n",
    "            if (text.charAt(i + j) != pattern.charAt(j)) {\n",
    "                break;\n",
    "            }\n",
    "        }\n",
    "        if (j == m) {\n",
    "            return true;\n",
    "        }\n",
    "    }\n",
    "    return false;\n",
    "}"
   ]
  },
  {
   "cell_type": "code",
   "execution_count": null,
   "metadata": {},
   "outputs": [],
   "source": [
    "private static boolean boyerMooreSearch(String text, String pattern) {\n",
    "    int[] badChar = buildBadCharTable(pattern);\n",
    "    int m = pattern.length();\n",
    "    int n = text.length();\n",
    "    int s = 0;\n",
    "\n",
    "    while (s <= (n - m)) {\n",
    "        int j = m - 1;\n",
    "\n",
    "        while (j >= 0 && pattern.charAt(j) == text.charAt(s + j)) {\n",
    "            j--;\n",
    "        }\n",
    "\n",
    "        if (j < 0) {\n",
    "            return true;\n",
    "        } else {\n",
    "            s += Math.max(1, j - badChar[text.charAt(s + j)]);\n",
    "        }\n",
    "    }\n",
    "    return false;\n",
    "}\n",
    "\n",
    "private static int[] buildBadCharTable(String pattern) {\n",
    "    final int ALPHABET_SIZE = 256;\n",
    "    int[] badChar = new int[ALPHABET_SIZE];\n",
    "\n",
    "    for (int i = 0; i < ALPHABET_SIZE; i++) {\n",
    "        badChar[i] = -1;\n",
    "    }\n",
    "\n",
    "    for (int i = 0; i < pattern.length(); i++) {\n",
    "        badChar[pattern.charAt(i)] = i;\n",
    "    }\n",
    "\n",
    "    return badChar;\n",
    "}"
   ]
  },
  {
   "cell_type": "markdown",
   "metadata": {},
   "source": [
    "angepasst findRecipes Methode"
   ]
  },
  {
   "cell_type": "code",
   "execution_count": null,
   "metadata": {},
   "outputs": [],
   "source": [
    "private static void findRecipes(GraphEdgeList<Integer, String> graph, String ingredient1, String ingredient2) {\n",
    "    System.out.println(\"Recipes for ingredients: \" + ingredient1 + \", \" + ingredient2);\n",
    "    boolean found = false;\n",
    "\n",
    "    for (Vertex<String> vertex : graph.vertices()) {\n",
    "        String recipe = vertex.getElement();\n",
    "        /*if (!recipe.startsWith(\"Recipe: \")) {\n",
    "            continue; // Skip ingredients\n",
    "        }*/\n",
    "\n",
    "        boolean hasIngredient1 = false;\n",
    "        boolean hasIngredient2 = false;\n",
    "\n",
    "        Collection<AbstractEdge<Integer>> connections = graph.incidentEdges(vertex);\n",
    "        for (AbstractEdge<Integer> edge : connections) {\n",
    "            Vertex<String> ingredientVertex = graph.opposite(vertex, edge);\n",
    "            String ingredient = ingredientVertex.getElement();\n",
    "            if (naiveStringSearch(ingredient, ingredient1) || boyerMooreSearch(ingredient, ingredient1)) {\n",
    "                hasIngredient1 = true;\n",
    "            } else if (naiveStringSearch(ingredient, ingredient2) || boyerMooreSearch(ingredient, ingredient2)) {\n",
    "                hasIngredient2 = true;\n",
    "            }\n",
    "        }\n",
    "\n",
    "        if (hasIngredient1 && hasIngredient2) {\n",
    "            System.out.println(recipe);\n",
    "            found = true;\n",
    "        }\n",
    "    }\n",
    "\n",
    "    if (!found) {\n",
    "        System.out.println(\"No recipes found for the given ingredients.\");\n",
    "    }\n",
    "}"
   ]
  }
 ],
 "metadata": {
  "kernelspec": {
   "display_name": "Java",
   "language": "java",
   "name": "java"
  },
  "language_info": {
   "codemirror_mode": "java",
   "file_extension": ".jshell",
   "mimetype": "text/x-java-source",
   "name": "Java",
   "pygments_lexer": "java",
   "version": "21.0.3+9-LTS"
  }
 },
 "nbformat": 4,
 "nbformat_minor": 4
}
